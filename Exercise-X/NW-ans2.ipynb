{
 "cells": [
  {
   "cell_type": "markdown",
   "id": "07cd74a9",
   "metadata": {},
   "source": [
    "# Import Library"
   ]
  },
  {
   "cell_type": "code",
   "execution_count": 1,
   "id": "4157a675",
   "metadata": {},
   "outputs": [],
   "source": [
    "import Bio\n",
    "from Bio.Seq import Seq\n",
    "from Bio import SeqIO"
   ]
  },
  {
   "cell_type": "markdown",
   "id": "7ad1fe8a",
   "metadata": {},
   "source": [
    "# Read Fasta"
   ]
  },
  {
   "cell_type": "code",
   "execution_count": 2,
   "id": "25ec15bc",
   "metadata": {},
   "outputs": [
    {
     "name": "stdout",
     "output_type": "stream",
     "text": [
      "Sequence A : ATGGTGTTGGATCTGGACTTGTTTCGGACGGATAAAGGAGGAGACCCGGACCGCATCCGAGAGACGCAAAAGAACCGCTTCAAGGACCCGGGACTCGTGGATCGGCTGGTGAAGGCGGACGGCGAGTGGCGAAAATGCAGATTTCAGACCGACAACTTGAACAAGCTGAAGAACCTATGCAGCAAGACAATTGGAGAGAAAATGAAGAAAAAAGAGCCAGTGGGAAATGATGAGTCCATTCCGGAGAACTTGTTAAATCTCGATGACCTCACTTCAGACACTTTAGCTAACCTGAAAGTGTCACAGATCAAAAAACTCCGACTCCTCATCGACGAAGCCATCCTGAAGTGTGACGCCCAGCGGATAAAGCTGCAGGAATAGCGGTTTGAGAACCTCCGCGAGCGATTCGATGGCTAGGTCCTGCATCCCTCGGTGCCCATCAGTAACGATGAGGATGCGGACAACAAAGTCGAGAGGATCTGGGGTGACTGCACCGTCAAGAAGAAGTACTCGCACGTGGACCTGGTGGTGATGGTCGATGGCTTTGAAGGCGAAAAAGGGGTCGTGGTGGCTGGCAGTCGAGGGTACTTCCTGAAGGGGCCCCTGGTGTTCCTGGAACAGGCGCTCATCCAGTACGCCCTTCGCACCTTGGGAAGTCGGGGCTACATTCCCATTTACACCCCGTTTTTCATGAGGAAGGAGGTCATGCAGGAGGTGGCACAGCTCAGCCAGTTTGATGAAGAGCTTTACAAGGTGATTGGCAAAGGCAGTGAAAAGTCTGACGACAACTCCTACGATGAGAAATACCTGATTGCCACCTCCGAGCAGCCCATCGCTGCTCTCCACCGAGATGAGTGGCTACGGCCAGAGGATTTGCCCATCAAGTATGCTGGCCTGTCCACCTGCTTTCGCCAGGAGGTGGGCTCCCACGGCCGGGACACCCGCGGCATCTTCCGAGTCCATCAGTTTGAGAAGATCGAGCAGTTTGTCTACGCGTCACCACATGACAACAAGTCGTGGGAGATGTTTGAAGAGATGATCTCCACCGCGGAGGAGTTCTACCAGACCCTGGGCATCCCATACCACATCGTGAATATTGTCTCAGGTTCTTTGAATCACGCTGCCAGTAAGAAGCTTGACCTGGAGGCCTGGTTTCCGGGCTCGGGAGCCTTCCGGGAGCTGGTCTCCTGTTCTAACTGCACAGACTACCAGGCTCGCCGCCTCCGAATCCGATACGGGCAAACCAAGAAGATGATGGACAAGGTGGAGTTTGTCCACATGCTCAACGCCACCATGTGTGCCACTACCCGCACCATCTGCGCCATCCTGGAGAACTACCAGACGGAGAAGGGCATCGTCGTGCCCGAGAAGTTGAAGGAGTTCATGCCGCCAGGTCTCCAAGAACTGATTCCCTTTGTGAAGCCTGCGCCCATTGACCAGGAGCCATCGAAGAAGCAGAAGAAGCAGCAGGAGGGCAGCAAAAACAAAGGGGCAGAGAGCGATGTCCCCCTGGAGAGCCGGCTGCAGAGCATGGTGCTCGCCGATTCCTGAACATTCCTTCTCCCCAGTTCGGTCAGCTGGGATCCCAGAGCCTGCCCACAGGCGGGGACGCCAGACATGCCCTCTCATCGCCTGCACCGACTGACTGCATTGCTGAAACGGGAGCCCTCTGCCATGCACACCGCAGTGTTCCTGTCTGCTCGCATGGGCCTGGGACGCAACCACTGAGGACTGAGGAAGTCATGCCATGAGCCTCCCCAGCAGAGGTGAGGACTCGCCCGCAGTCCTCCGCCTGGGCCTCAAACCCTGGCTCACAGCTCTCCCTGGAACCACACTCACTTGTGCTTTTCCTCCTAAATAAAGCTGTTCCATGTAGCAAGTCA\n",
      "Sequence B : GTGTCAGTGGAACTTTGGCAGCAGTGCGTGGAGCTTTTGCGCGATGAGCTGCCTGCCCAGCAATTCAACACCTGGATCCGTCCACTACAGGTCGAAGCCGAAGGCGACGAGTTGCGTGTTTACGCGCCCAATCGTTTTGTTCTCGACTGGGTCAACGAGAAGTACCTGAGCCGCGTGCTCGAATTGCTCGATGAACACGGCAACGGCCTCGCACCCGTGCTCTCCTTATTAATAGGCAGCAAACGTAGCTCCGCACCTCGTGCTGCGCCGAACGCGCCATTGGCCGCTGCTGCGTCGCAAGCCCAGGCGGCACCGGTTGCCAGTACACCTGCACCGGCTCCTTCCAAATCGTCTGCGAAGAAAAATGCAGCCGAGAATGAAGAACCGTCGCGCGATAGCTTCGACCCGATGGCCGGTGCCAGCTCCCAGCAAGCCCCGATCCGTGCCGAACAGCGCACCGTTCAGGTTGAAGGTGCGCTCAAGCACACCAGCTACCTGAACCGCACGTTCACGTTCGAGAATTTCGTCGAAGGTAAATCCAACCAGCTGGCTCGTGCAGCCGCCTGGCAGGTCGCCGACAACCCCAAGCACGGTTACAACCCTCTCTTCCTTTATGGTGGCGTCGGCTTGGGTAAGACTCACTTGATGCACGCTGTGGGTAACCACCTATTAAAGAAGAACCCGAATGCCAAGGTCGTGTACCTGCACTCGGAGCGCTTCGTGGCTGACATGGTCAAGGCCCTGCAGCTCAATGCCATCAATGAATTCAAGCGTTTCTACCGCTCGGTTGATGCGTTGCTGATCGATGACATTCAATTCTTTGCCCGTAAAGAGCGTTCCCAGGAAGAGTTTTTCCATACCTTCAACGCCCTGCTCGAAGGTGGCCAGCAGGTCATCTTGACCAGTGACCGTTATCCGAAAGAGATCGAAGGTCTGGAAGAACGCCTGAAATCGCGTTTCGGCTGGGGCCTGACTGTTGCAGTAGAGCCGCCGGAGCTCGAAACCCGCGTCGCGATCCTGATGAAAAAGGCCGACCAGGCGAAAGTCGAC\n"
     ]
    }
   ],
   "source": [
    "seqA = SeqIO.read(\"Data/a.fasta\", \"fasta\")\n",
    "seqB = SeqIO.read(\"Data/b.fasta\", \"fasta\")\n",
    "\n",
    "seqA = seqA.seq\n",
    "seqB = seqB.seq\n",
    "\n",
    "print (f\"Sequence A : {seqA}\")\n",
    "print (f\"Sequence B : {seqB}\")"
   ]
  },
  {
   "cell_type": "markdown",
   "id": "6029e416",
   "metadata": {},
   "source": [
    "# Combining Sequence"
   ]
  },
  {
   "cell_type": "code",
   "execution_count": 3,
   "id": "c6307650",
   "metadata": {},
   "outputs": [
    {
     "name": "stdout",
     "output_type": "stream",
     "text": [
      "Sequence C : CAGCTGAAAGCGGACCAGCCGGAAAAAGTAGTCTAGGTTGTGGTA\n"
     ]
    }
   ],
   "source": [
    "seqA_sliced = seqA[:15]\n",
    "seqB_sliced = seqB[-30:]\n",
    "\n",
    "seqC = (seqA_sliced + seqB_sliced) [::-1]\n",
    "\n",
    "print(f\"Sequence C : {seqC}\")"
   ]
  },
  {
   "cell_type": "markdown",
   "id": "78047a1d",
   "metadata": {},
   "source": [
    "# String Manipulation"
   ]
  },
  {
   "cell_type": "code",
   "execution_count": 6,
   "id": "77d2a801",
   "metadata": {},
   "outputs": [
    {
     "name": "stdout",
     "output_type": "stream",
     "text": [
      "Length of Sequence C : 45\n",
      "Reverse of Sequence C : ATGGTGTTGGATCTGATGAAAAAGGCCGACCAGGCGAAAGTCGAC\n",
      "Index of Sequence C : 2\n",
      "Count of A in Sequence C : 14\n"
     ]
    }
   ],
   "source": [
    "print (f\"Length of Sequence C : {len(seqC)}\")\n",
    "print (f\"Reverse of Sequence C : {seqC[::-1]}\")\n",
    "print (f\"Index of Sequence C : {seqC.find(\"G\")}\")\n",
    "print (f\"Count of A in Sequence C : {seqC.count(\"A\")}\")"
   ]
  },
  {
   "cell_type": "markdown",
   "id": "7db699ad",
   "metadata": {},
   "source": [
    "# Melting Temperature"
   ]
  },
  {
   "cell_type": "code",
   "execution_count": 7,
   "id": "b2a00a6c",
   "metadata": {},
   "outputs": [
    {
     "name": "stdout",
     "output_type": "stream",
     "text": [
      "Melting Temperature of Sequence A : 5864.0\n",
      "Melting Temperature of Sequence B : 3302.0\n",
      "Melting Temperature of Sequence C : 136.0\n"
     ]
    }
   ],
   "source": [
    "from Bio.SeqUtils import MeltingTemp as mt\n",
    "\n",
    "MeltingTempSeqA = mt.Tm_Wallace(seqA)\n",
    "MeltingTempSeqB = mt.Tm_Wallace(seqB)\n",
    "MeltingTempSeqC = mt.Tm_Wallace(seqC)\n",
    "\n",
    "print (f\"Melting Temperature of Sequence A : {MeltingTempSeqA}\")\n",
    "print (f\"Melting Temperature of Sequence B : {MeltingTempSeqB}\")\n",
    "print (f\"Melting Temperature of Sequence C : {MeltingTempSeqC}\")"
   ]
  },
  {
   "cell_type": "markdown",
   "id": "89087fc1",
   "metadata": {},
   "source": [
    "# Molecular Weight"
   ]
  },
  {
   "cell_type": "code",
   "execution_count": 9,
   "id": "4b80f642",
   "metadata": {},
   "outputs": [
    {
     "name": "stdout",
     "output_type": "stream",
     "text": [
      "Molecular Weight of Sequence A : 582470.81\n",
      "Molecular Weight of Sequence B : 323955.03\n",
      "Molecular Weight of Sequence C : 14087.99\n"
     ]
    }
   ],
   "source": [
    "from Bio.SeqUtils import molecular_weight\n",
    "\n",
    "MolecularWeightSeqA = molecular_weight(seqA)\n",
    "MolecularWeightSeqB = molecular_weight(seqB)\n",
    "MolecularWeightSeqC = molecular_weight(seqC)\n",
    "\n",
    "print (f\"Molecular Weight of Sequence A : {MolecularWeightSeqA:.2f}\")\n",
    "print (f\"Molecular Weight of Sequence B : {MolecularWeightSeqB:.2f}\")\n",
    "print (f\"Molecular Weight of Sequence C : {MolecularWeightSeqC:.2f}\")"
   ]
  },
  {
   "cell_type": "markdown",
   "id": "b882990d",
   "metadata": {},
   "source": [
    "# GC and AT Content Percentage"
   ]
  },
  {
   "cell_type": "code",
   "execution_count": 12,
   "id": "1230e158",
   "metadata": {},
   "outputs": [
    {
     "name": "stdout",
     "output_type": "stream",
     "text": [
      "GC Content Percentage of Sequence A : 55.71%, AT Content Percentage of Sequence A : 44.29%\n",
      "GC Content Percentage of Sequence B : 57.24%, AT Content Percentage of Sequence B : 42.76%\n",
      "GC Content Percentage of Sequence C : 51.11%, AT Content Percentage of Sequence C : 48.89%\n"
     ]
    }
   ],
   "source": [
    "from Bio.SeqUtils import gc_fraction\n",
    "\n",
    "GCSeqA = gc_fraction(seqA) * 100\n",
    "GCSeqB = gc_fraction(seqB) * 100\n",
    "GCSeqC = gc_fraction(seqC) * 100\n",
    "\n",
    "ATSeqA = 100 - GCSeqA\n",
    "ATSeqB = 100 - GCSeqB\n",
    "ATSeqC = 100 - GCSeqC\n",
    "\n",
    "print (f\"GC Content Percentage of Sequence A : {GCSeqA:.2f}%, AT Content Percentage of Sequence A : {ATSeqA:.2f}%\")\n",
    "print (f\"GC Content Percentage of Sequence B : {GCSeqB:.2f}%, AT Content Percentage of Sequence B : {ATSeqB:.2f}%\")\n",
    "print (f\"GC Content Percentage of Sequence C : {GCSeqC:.2f}%, AT Content Percentage of Sequence C : {ATSeqC:.2f}%\")"
   ]
  },
  {
   "cell_type": "markdown",
   "id": "9385ebe6",
   "metadata": {},
   "source": [
    "# Nucleotides Base Frequency"
   ]
  },
  {
   "cell_type": "code",
   "execution_count": 14,
   "id": "1de30550",
   "metadata": {},
   "outputs": [
    {
     "name": "stdout",
     "output_type": "stream",
     "text": [
      "Nucleotides Base of Sequence A : Counter({'G': 530, 'C': 519, 'A': 465, 'T': 369})\n",
      "Nucleotides Base of Sequence B : Counter({'C': 315, 'G': 286, 'A': 234, 'T': 215})\n",
      "Nucleotides Base of Sequence C : Counter({'G': 15, 'A': 14, 'C': 8, 'T': 8})\n"
     ]
    }
   ],
   "source": [
    "from collections import Counter\n",
    "\n",
    "seqA_freq = Counter(seqA)\n",
    "seqB_freq = Counter(seqB)\n",
    "seqC_freq = Counter(seqC)\n",
    "\n",
    "print (f\"Nucleotides Base of Sequence A : {seqA_freq}\")\n",
    "print (f\"Nucleotides Base of Sequence B : {seqB_freq}\")\n",
    "print (f\"Nucleotides Base of Sequence C : {seqC_freq}\")"
   ]
  },
  {
   "cell_type": "markdown",
   "id": "764a964f",
   "metadata": {},
   "source": [
    "# mRNA Transcription and Translation"
   ]
  },
  {
   "cell_type": "code",
   "execution_count": 16,
   "id": "1849b2e0",
   "metadata": {},
   "outputs": [
    {
     "name": "stdout",
     "output_type": "stream",
     "text": [
      "mRNA of Sequence A : AUGGUGUUGGAUCUGGACUUGUUUCGGACGGAUAAAGGAGGAGACCCGGACCGCAUCCGAGAGACGCAAAAGAACCGCUUCAAGGACCCGGGACUCGUGGAUCGGCUGGUGAAGGCGGACGGCGAGUGGCGAAAAUGCAGAUUUCAGACCGACAACUUGAACAAGCUGAAGAACCUAUGCAGCAAGACAAUUGGAGAGAAAAUGAAGAAAAAAGAGCCAGUGGGAAAUGAUGAGUCCAUUCCGGAGAACUUGUUAAAUCUCGAUGACCUCACUUCAGACACUUUAGCUAACCUGAAAGUGUCACAGAUCAAAAAACUCCGACUCCUCAUCGACGAAGCCAUCCUGAAGUGUGACGCCCAGCGGAUAAAGCUGCAGGAAUAGCGGUUUGAGAACCUCCGCGAGCGAUUCGAUGGCUAGGUCCUGCAUCCCUCGGUGCCCAUCAGUAACGAUGAGGAUGCGGACAACAAAGUCGAGAGGAUCUGGGGUGACUGCACCGUCAAGAAGAAGUACUCGCACGUGGACCUGGUGGUGAUGGUCGAUGGCUUUGAAGGCGAAAAAGGGGUCGUGGUGGCUGGCAGUCGAGGGUACUUCCUGAAGGGGCCCCUGGUGUUCCUGGAACAGGCGCUCAUCCAGUACGCCCUUCGCACCUUGGGAAGUCGGGGCUACAUUCCCAUUUACACCCCGUUUUUCAUGAGGAAGGAGGUCAUGCAGGAGGUGGCACAGCUCAGCCAGUUUGAUGAAGAGCUUUACAAGGUGAUUGGCAAAGGCAGUGAAAAGUCUGACGACAACUCCUACGAUGAGAAAUACCUGAUUGCCACCUCCGAGCAGCCCAUCGCUGCUCUCCACCGAGAUGAGUGGCUACGGCCAGAGGAUUUGCCCAUCAAGUAUGCUGGCCUGUCCACCUGCUUUCGCCAGGAGGUGGGCUCCCACGGCCGGGACACCCGCGGCAUCUUCCGAGUCCAUCAGUUUGAGAAGAUCGAGCAGUUUGUCUACGCGUCACCACAUGACAACAAGUCGUGGGAGAUGUUUGAAGAGAUGAUCUCCACCGCGGAGGAGUUCUACCAGACCCUGGGCAUCCCAUACCACAUCGUGAAUAUUGUCUCAGGUUCUUUGAAUCACGCUGCCAGUAAGAAGCUUGACCUGGAGGCCUGGUUUCCGGGCUCGGGAGCCUUCCGGGAGCUGGUCUCCUGUUCUAACUGCACAGACUACCAGGCUCGCCGCCUCCGAAUCCGAUACGGGCAAACCAAGAAGAUGAUGGACAAGGUGGAGUUUGUCCACAUGCUCAACGCCACCAUGUGUGCCACUACCCGCACCAUCUGCGCCAUCCUGGAGAACUACCAGACGGAGAAGGGCAUCGUCGUGCCCGAGAAGUUGAAGGAGUUCAUGCCGCCAGGUCUCCAAGAACUGAUUCCCUUUGUGAAGCCUGCGCCCAUUGACCAGGAGCCAUCGAAGAAGCAGAAGAAGCAGCAGGAGGGCAGCAAAAACAAAGGGGCAGAGAGCGAUGUCCCCCUGGAGAGCCGGCUGCAGAGCAUGGUGCUCGCCGAUUCCUGAACAUUCCUUCUCCCCAGUUCGGUCAGCUGGGAUCCCAGAGCCUGCCCACAGGCGGGGACGCCAGACAUGCCCUCUCAUCGCCUGCACCGACUGACUGCAUUGCUGAAACGGGAGCCCUCUGCCAUGCACACCGCAGUGUUCCUGUCUGCUCGCAUGGGCCUGGGACGCAACCACUGAGGACUGAGGAAGUCAUGCCAUGAGCCUCCCCAGCAGAGGUGAGGACUCGCCCGCAGUCCUCCGCCUGGGCCUCAAACCCUGGCUCACAGCUCUCCCUGGAACCACACUCACUUGUGCUUUUCCUCCUAAAUAAAGCUGUUCCAUGUAGCAAGUCA\n",
      "mRNA of Sequence B : GUGUCAGUGGAACUUUGGCAGCAGUGCGUGGAGCUUUUGCGCGAUGAGCUGCCUGCCCAGCAAUUCAACACCUGGAUCCGUCCACUACAGGUCGAAGCCGAAGGCGACGAGUUGCGUGUUUACGCGCCCAAUCGUUUUGUUCUCGACUGGGUCAACGAGAAGUACCUGAGCCGCGUGCUCGAAUUGCUCGAUGAACACGGCAACGGCCUCGCACCCGUGCUCUCCUUAUUAAUAGGCAGCAAACGUAGCUCCGCACCUCGUGCUGCGCCGAACGCGCCAUUGGCCGCUGCUGCGUCGCAAGCCCAGGCGGCACCGGUUGCCAGUACACCUGCACCGGCUCCUUCCAAAUCGUCUGCGAAGAAAAAUGCAGCCGAGAAUGAAGAACCGUCGCGCGAUAGCUUCGACCCGAUGGCCGGUGCCAGCUCCCAGCAAGCCCCGAUCCGUGCCGAACAGCGCACCGUUCAGGUUGAAGGUGCGCUCAAGCACACCAGCUACCUGAACCGCACGUUCACGUUCGAGAAUUUCGUCGAAGGUAAAUCCAACCAGCUGGCUCGUGCAGCCGCCUGGCAGGUCGCCGACAACCCCAAGCACGGUUACAACCCUCUCUUCCUUUAUGGUGGCGUCGGCUUGGGUAAGACUCACUUGAUGCACGCUGUGGGUAACCACCUAUUAAAGAAGAACCCGAAUGCCAAGGUCGUGUACCUGCACUCGGAGCGCUUCGUGGCUGACAUGGUCAAGGCCCUGCAGCUCAAUGCCAUCAAUGAAUUCAAGCGUUUCUACCGCUCGGUUGAUGCGUUGCUGAUCGAUGACAUUCAAUUCUUUGCCCGUAAAGAGCGUUCCCAGGAAGAGUUUUUCCAUACCUUCAACGCCCUGCUCGAAGGUGGCCAGCAGGUCAUCUUGACCAGUGACCGUUAUCCGAAAGAGAUCGAAGGUCUGGAAGAACGCCUGAAAUCGCGUUUCGGCUGGGGCCUGACUGUUGCAGUAGAGCCGCCGGAGCUCGAAACCCGCGUCGCGAUCCUGAUGAAAAAGGCCGACCAGGCGAAAGUCGAC\n",
      "mRNA of Sequence C : CAGCUGAAAGCGGACCAGCCGGAAAAAGUAGUCUAGGUUGUGGUA\n"
     ]
    }
   ],
   "source": [
    "mRNA_seqA = seqA.transcribe()\n",
    "mRNA_seqB = seqB.transcribe()\n",
    "mRNA_seqC = seqC.transcribe()\n",
    "\n",
    "print (f\"mRNA of Sequence A : {mRNA_seqA}\")\n",
    "print (f\"mRNA of Sequence B : {mRNA_seqB}\")\n",
    "print (f\"mRNA of Sequence C : {mRNA_seqC}\")"
   ]
  },
  {
   "cell_type": "code",
   "execution_count": 17,
   "id": "4c660e94",
   "metadata": {},
   "outputs": [
    {
     "name": "stdout",
     "output_type": "stream",
     "text": [
      "Protein Amino of Sequence A : MVLDLDLFRTDKGGDPDRIRETQKNRFKDPGLVDRLVKADGEWRKCRFQTDNLNKLKNLCSKTIGEKMKKKEPVGNDESIPENLLNLDDLTSDTLANLKVSQIKKLRLLIDEAILKCDAQRIKLQE*RFENLRERFDG*VLHPSVPISNDEDADNKVERIWGDCTVKKKYSHVDLVVMVDGFEGEKGVVVAGSRGYFLKGPLVFLEQALIQYALRTLGSRGYIPIYTPFFMRKEVMQEVAQLSQFDEELYKVIGKGSEKSDDNSYDEKYLIATSEQPIAALHRDEWLRPEDLPIKYAGLSTCFRQEVGSHGRDTRGIFRVHQFEKIEQFVYASPHDNKSWEMFEEMISTAEEFYQTLGIPYHIVNIVSGSLNHAASKKLDLEAWFPGSGAFRELVSCSNCTDYQARRLRIRYGQTKKMMDKVEFVHMLNATMCATTRTICAILENYQTEKGIVVPEKLKEFMPPGLQELIPFVKPAPIDQEPSKKQKKQQEGSKNKGAESDVPLESRLQSMVLADS*TFLLPSSVSWDPRACPQAGTPDMPSHRLHRLTALLKREPSAMHTAVFLSARMGLGRNH*GLRKSCHEPPQQR*GLARSPPPGPQTLAHSSPWNHTHLCFSS*IKLFHVAS\n",
      "Protein Amino of Sequence B : VSVELWQQCVELLRDELPAQQFNTWIRPLQVEAEGDELRVYAPNRFVLDWVNEKYLSRVLELLDEHGNGLAPVLSLLIGSKRSSAPRAAPNAPLAAAASQAQAAPVASTPAPAPSKSSAKKNAAENEEPSRDSFDPMAGASSQQAPIRAEQRTVQVEGALKHTSYLNRTFTFENFVEGKSNQLARAAAWQVADNPKHGYNPLFLYGGVGLGKTHLMHAVGNHLLKKNPNAKVVYLHSERFVADMVKALQLNAINEFKRFYRSVDALLIDDIQFFARKERSQEEFFHTFNALLEGGQQVILTSDRYPKEIEGLEERLKSRFGWGLTVAVEPPELETRVAILMKKADQAKVD\n",
      "Protein Amino of Sequence C : QLKADQPEKVV*VVV\n"
     ]
    },
    {
     "name": "stderr",
     "output_type": "stream",
     "text": [
      "c:\\Users\\ASUS\\AppData\\Local\\Programs\\Python\\Python312\\Lib\\site-packages\\Bio\\Seq.py:2879: BiopythonWarning: Partial codon, len(sequence) not a multiple of three. Explicitly trim the sequence or add trailing N before translation. This may become an error in future.\n",
      "  warnings.warn(\n"
     ]
    }
   ],
   "source": [
    "proteinAmino_seqA = seqA.translate()\n",
    "proteinAmino_seqB = seqB.translate()\n",
    "proteinAmino_seqC = seqC.translate()\n",
    "\n",
    "print (f\"Protein Amino of Sequence A : {proteinAmino_seqA}\")\n",
    "print (f\"Protein Amino of Sequence B : {proteinAmino_seqB}\")\n",
    "print (f\"Protein Amino of Sequence C : {proteinAmino_seqC}\")"
   ]
  },
  {
   "cell_type": "code",
   "execution_count": 18,
   "id": "9f9c68c6",
   "metadata": {},
   "outputs": [
    {
     "name": "stdout",
     "output_type": "stream",
     "text": [
      "Protein Amino of Sequence A : MetValLeuAspLeuAspLeuPheArgThrAspLysGlyGlyAspProAspArgIleArgGluThrGlnLysAsnArgPheLysAspProGlyLeuValAspArgLeuValLysAlaAspGlyGluTrpArgLysCysArgPheGlnThrAspAsnLeuAsnLysLeuLysAsnLeuCysSerLysThrIleGlyGluLysMetLysLysLysGluProValGlyAsnAspGluSerIleProGluAsnLeuLeuAsnLeuAspAspLeuThrSerAspThrLeuAlaAsnLeuLysValSerGlnIleLysLysLeuArgLeuLeuIleAspGluAlaIleLeuLysCysAspAlaGlnArgIleLysLeuGlnGluTerArgPheGluAsnLeuArgGluArgPheAspGlyTerValLeuHisProSerValProIleSerAsnAspGluAspAlaAspAsnLysValGluArgIleTrpGlyAspCysThrValLysLysLysTyrSerHisValAspLeuValValMetValAspGlyPheGluGlyGluLysGlyValValValAlaGlySerArgGlyTyrPheLeuLysGlyProLeuValPheLeuGluGlnAlaLeuIleGlnTyrAlaLeuArgThrLeuGlySerArgGlyTyrIleProIleTyrThrProPhePheMetArgLysGluValMetGlnGluValAlaGlnLeuSerGlnPheAspGluGluLeuTyrLysValIleGlyLysGlySerGluLysSerAspAspAsnSerTyrAspGluLysTyrLeuIleAlaThrSerGluGlnProIleAlaAlaLeuHisArgAspGluTrpLeuArgProGluAspLeuProIleLysTyrAlaGlyLeuSerThrCysPheArgGlnGluValGlySerHisGlyArgAspThrArgGlyIlePheArgValHisGlnPheGluLysIleGluGlnPheValTyrAlaSerProHisAspAsnLysSerTrpGluMetPheGluGluMetIleSerThrAlaGluGluPheTyrGlnThrLeuGlyIleProTyrHisIleValAsnIleValSerGlySerLeuAsnHisAlaAlaSerLysLysLeuAspLeuGluAlaTrpPheProGlySerGlyAlaPheArgGluLeuValSerCysSerAsnCysThrAspTyrGlnAlaArgArgLeuArgIleArgTyrGlyGlnThrLysLysMetMetAspLysValGluPheValHisMetLeuAsnAlaThrMetCysAlaThrThrArgThrIleCysAlaIleLeuGluAsnTyrGlnThrGluLysGlyIleValValProGluLysLeuLysGluPheMetProProGlyLeuGlnGluLeuIleProPheValLysProAlaProIleAspGlnGluProSerLysLysGlnLysLysGlnGlnGluGlySerLysAsnLysGlyAlaGluSerAspValProLeuGluSerArgLeuGlnSerMetValLeuAlaAspSerTerThrPheLeuLeuProSerSerValSerTrpAspProArgAlaCysProGlnAlaGlyThrProAspMetProSerHisArgLeuHisArgLeuThrAlaLeuLeuLysArgGluProSerAlaMetHisThrAlaValPheLeuSerAlaArgMetGlyLeuGlyArgAsnHisTerGlyLeuArgLysSerCysHisGluProProGlnGlnArgTerGlyLeuAlaArgSerProProProGlyProGlnThrLeuAlaHisSerSerProTrpAsnHisThrHisLeuCysPheSerSerTerIleLysLeuPheHisValAlaSer\n",
      "Protein Amino of Sequence B : ValSerValGluLeuTrpGlnGlnCysValGluLeuLeuArgAspGluLeuProAlaGlnGlnPheAsnThrTrpIleArgProLeuGlnValGluAlaGluGlyAspGluLeuArgValTyrAlaProAsnArgPheValLeuAspTrpValAsnGluLysTyrLeuSerArgValLeuGluLeuLeuAspGluHisGlyAsnGlyLeuAlaProValLeuSerLeuLeuIleGlySerLysArgSerSerAlaProArgAlaAlaProAsnAlaProLeuAlaAlaAlaAlaSerGlnAlaGlnAlaAlaProValAlaSerThrProAlaProAlaProSerLysSerSerAlaLysLysAsnAlaAlaGluAsnGluGluProSerArgAspSerPheAspProMetAlaGlyAlaSerSerGlnGlnAlaProIleArgAlaGluGlnArgThrValGlnValGluGlyAlaLeuLysHisThrSerTyrLeuAsnArgThrPheThrPheGluAsnPheValGluGlyLysSerAsnGlnLeuAlaArgAlaAlaAlaTrpGlnValAlaAspAsnProLysHisGlyTyrAsnProLeuPheLeuTyrGlyGlyValGlyLeuGlyLysThrHisLeuMetHisAlaValGlyAsnHisLeuLeuLysLysAsnProAsnAlaLysValValTyrLeuHisSerGluArgPheValAlaAspMetValLysAlaLeuGlnLeuAsnAlaIleAsnGluPheLysArgPheTyrArgSerValAspAlaLeuLeuIleAspAspIleGlnPhePheAlaArgLysGluArgSerGlnGluGluPhePheHisThrPheAsnAlaLeuLeuGluGlyGlyGlnGlnValIleLeuThrSerAspArgTyrProLysGluIleGluGlyLeuGluGluArgLeuLysSerArgPheGlyTrpGlyLeuThrValAlaValGluProProGluLeuGluThrArgValAlaIleLeuMetLysLysAlaAspGlnAlaLysValAsp\n",
      "Protein Amino of Sequence C : GlnLeuLysAlaAspGlnProGluLysValValTerValValVal\n"
     ]
    },
    {
     "name": "stderr",
     "output_type": "stream",
     "text": [
      "c:\\Users\\ASUS\\AppData\\Local\\Programs\\Python\\Python312\\Lib\\site-packages\\Bio\\Seq.py:2879: BiopythonWarning: Partial codon, len(sequence) not a multiple of three. Explicitly trim the sequence or add trailing N before translation. This may become an error in future.\n",
      "  warnings.warn(\n"
     ]
    }
   ],
   "source": [
    "from Bio.SeqUtils import seq3\n",
    "\n",
    "proteinAmino_seqA = seqA.translate()\n",
    "proteinAmino_seqB = seqB.translate()\n",
    "proteinAmino_seqC = seqC.translate()\n",
    "\n",
    "print (f\"Protein Amino of Sequence A : {seq3(proteinAmino_seqA)}\")\n",
    "print (f\"Protein Amino of Sequence B : {seq3(proteinAmino_seqB)}\")\n",
    "print (f\"Protein Amino of Sequence C : {seq3(proteinAmino_seqC)}\")"
   ]
  },
  {
   "cell_type": "markdown",
   "id": "9589c46a",
   "metadata": {},
   "source": [
    "# Sequence Alignment and Distance Comparison"
   ]
  },
  {
   "cell_type": "code",
   "execution_count": 19,
   "id": "db9da0f6",
   "metadata": {},
   "outputs": [],
   "source": [
    "from Bio import pairwise2\n",
    "from Bio.pairwise2 import format_alignment"
   ]
  },
  {
   "cell_type": "code",
   "execution_count": 21,
   "id": "ea4d4067",
   "metadata": {},
   "outputs": [
    {
     "name": "stdout",
     "output_type": "stream",
     "text": [
      "Sequence Alignment of Sequence A : 6 GTTGGATC--TGGA-CTTGTTTCGGACGGATAAAGGAGGAGACCCGGACCGCATCCGAGAGACGCAAAAGAACCGCTTCAAGGACCCGGGACTCGTGGATCGGCTGGTGAAGGCGGACGGCGAGTG-GCGAAAATGCAGATTTCA-GACCG-A-CAACTTG-AACAAGC-TGAAGAA-CCTATG-CAGCAAGACAATTGGAG-AGAAAATGAA--GAAAAAAGAGCCAGTGGGAAATGATGAGTCC-ATTCCGGAGAACTTGTTAAATCTCGATGACCTCACTTCAGACA-CTTTAGCTAACCTGAAAGT-GTCACA---GATCAAAAAACTC-CGACTCC---TCAT-CGACGAAGCCAT-CCTGAAGTGTGACGCCCAGCGGATAAAGCTGCAGGAATA-GCGGTTT-GA-GAACCTCCG-CGAGCGATTCGATGGCTAGGTCCT-GCATCCCTCGGTGCC-CATCAG-T-A--ACGATGAGG-ATGCGGACAACAAAGTCGAGAGGATCTGGGGTGACT-GCACCGTCAAGAAGAAGTACTCGCACGTG-GACCTGGTGGTGATGGTCGAT-G-GCT--TTGAAGGCGAAAAAGGGGTCGTGG-TGGCTGGCAGTCGAGGGTACTTCCTGAAGGGGCCCCTG-GTGTTCCTGGAACAGGCGC--TCAT-CCAGTACGC-CCTTCGCACCTTGGGAAGTCGGGGCTACA-TTCCCATTTACACCC-CGTTTTTCATGAG-GAAGGAGGTCATGCAGGAGG-TGGCACAGCTCAGCCAGTTTGA-TGAAGAGCTTTACAAGGT-GATTGGCAAAGGCAGT-GAAA-AGTCTGA-CGACAACTCCTACGATGAGAAATACCTGAT-TGCCAC-CTCCG-AGCA-GCCCATCGC-TGCTC-TCCA-CCGAGATG-AGTG-GCTACGGCCAG---AGGATTTGCCCATCAAGTATGCTGGCCTGTC-CACCT-GCTTT-CG-CCAGGAGGTGGGCTCCCACGGCCGG-GACACCCGCGGCATCTTCCGAGTCCATCA-GTTTGAGAAGATCGAGCAG-TTT-GTCT-AC-GCGTCACCACATGAC-AACA-AGTCGTGGGAGATGTT-TGAAGA-GATGATCTCCA-CCGC--GG-AGGAGTTCTACCAGACCCTGGGCATCCCATACCACATCGTGAATATTGTCTCA-GGTT-CTTTGAATCACGCTGCCAGTAAGAAGCTTGACCTGG--AGGCCTGGTTTCCGGGC-TCGGGAGCCTTCCGGGAGCTG--GT-CTC-CTGTTCTA-ACTGCACAGACTACCAGGCTCGCCGCCTCCGAATCCGATACGGGCAAACC-A--AGAAGATGATGGACAAGGTGGAGTTTGTCCACATGCTCAAC-GCCACCATG-T-GTGCCACTACCC-GCACCATCTGCGCCAT-C-CT--G-GAGAACTACCAGACGGA-G---AAGGGCA--T-C-G-TCG--TGCC--CGA--GAAGTTG-AAGGA-GTT-CATG-CCGC-CAGGTCTCCAAGAACTGATTCCCT-TTG-TGAAGCCTGCGCCCATTGACCAGGAGCCAT-CGAAGAAG--CAGAAGAA---GCAGCAGGAGGGCAGCAAAAACAA-AGGGGCAGAGAGCGATGTCCCCCTGGAGAGCCGGCTGCAGAGCATGGTGCTCGCCGATTCCTGAAC-ATT-CCTTCTC--C-CCAGTTCGGTCAGCTGG-GATCCCAGAGCCTGC-CCA-CAGG-CGGGGA-C--G-CCAGACATGC-CC-TCTCATCGCCTGCACCGACT-GACTGCATTGCTGAAACGGGAGCCCTCTGCC-AT-GCACACCGCAG-TGT---TC-CTGTCTGCTCGCATGGGCCTGGGACGCAACCACTGAGGACTGAGGAAGTCATGCCATGAGCCTCCCCAGCAGAGGTGAGGACTCGCCCGC-AGTCCTCCGCCTGGGCCTCAAACCCTGGCTCACAGCTCTCCCTGGAACCAC-ACTCACTTG-TGCTTTTCCTCCTAAATAAAG-CT-GTT-CCATGTAGC-AA-GTC-A\n",
      "  | | | ||  |||| |   ||| || |            ||   |  |  |  |               |   ||  |   |||     |   | |   |    |  |       | | |||| || ||     |||      |  | ||  | ||| ||  ||| | | ||  | | ||   | |  |   ||   |  |  ||     |    |     | ||||     |  |  | | |  | |   | |||   |||        || ||   |   ||   ||  |    ||   ||   || | ||       | |        || |||||     |||  ||| ||||   | ||       ||| | || || | |   ||| |  ||||  ||    | || |||    |  || || |    |   |  || ||| |||  || | ||| | | ||   | |  |  || ||| | ||  | |||   ||    | |  |     |  |  ||||| ||        |   | |  | || | ||       ||      |  | ||   ||   |||           |   | | ||| || |||    |      |  ||   | |||   | |   | ||  ||  | |  |  | ||||||  | || | ||| |         |  |||| |  || |||   | |    ||    || |  | ||| ||    |   |  |   | |  |||| | |  |    || ||||||     ||      |  |  |    || |  |  | || ||   ||   |  ||  ||||| |     || |   |||||  ||||  |||| ||||  ||  | | | |    |||| |   |  | || |   || |   |||  |||      |||   | | | | | | ||    ||    |  ||   |     |||   |   ||   || |  | | |||     |  ||   ||| |  |       ||||| |  ||| |||  |  | || |  | ||  | |||  || | |    |  |   |      | ||     || ||||  || | | |   |  | |  ||   | |   || ||| |  |    | |  |   || |||| |    || | | ||  |  |      |||  |||    |    |||  |   ||| ||  | | |||   || | |   |  ||| |   | |  | ||||| | ||     | | |  |     |  |   | ||   |  ||| |  | ||||  |  |   |     |      || |  |   ||  ||||  | | | |||    || || ||| | || | |  |  | ||  | | |  ||    |||  | |   || |||   | | | ||   ||||  | |  ||| ||  || |  ||| | |  |||| | ||| |    | | ||     |  ||| || |   | ||   | |      ||  ||| |    ||   |          ||  |       | |          |     | |||||| | |  |||     |    |  | | || |  ||  |      ||  |   | | | || | ||  | ||    |  |  |||   ||    || |  ||  ||| |||| |    | |  | ||||   ||  || | | ||  || | |   |   ||  | | | | | ||   | |   ||||   |  | | | |||   ||    || | || |  |  |   || |||||  |    | ||   ||||      ||  || |   ||  |         |   || | | || |||  ||  ||    |   |    ||||||  |    | |   |  |  |     | | || | || ||            || |||| |  |   ||| |  || || ||| |\n",
      "1 G-T-G-TCAGTGGAAC---TTT-GG-C------------AG---C--A--G--T---------------G---CG--T---GGA-----G---C-T---T----T--T-------G-C-GCGA-TGAGC-----TGC------C-TG-CC-CAGCAA-TT-CAAC-A-CCTG--G-ATCC---GTC--C---AC---T--A-CAG-----G--TCG-----A-AGCC-----G--A--A-G-G--CGA---C-GAG---TTG--------CG-TG---T---TT---AC-GC----GC---CC---AA-TCGT----TTTG-T--------TCTCGACT--GGGTCA-ACGA-GAAG---TACC-------TGA-G-CC-GC-G-T---GCT-C--GAAT-TGC----TCGATGAA----C-ACG-GC-A----A---C--GG-CCTCGCA--CC-C-GTG-CTC-TC--CTTATTA--AT-AGGCA-GC--A-AAC---GT----A-G--C-----T--C-CGCACC-TC--------G---T-G--C-TGCG-CC-------GA------A-CGCGC-CATT---GGC-----------C---GCT-GCT-GC-GTC----G------C--AA---G-CCC--AG-G---C-GG--CA--C-CGGT--TGCCAGTA--CACC-T-GCA-C---------C--GGCT-C-CTT-CCA---A-A---TCG----TC-T--GCGAA-GA----A---A--A--AT-G--CAGC-C-G--A----GAATGAAGA-----AC-----CG--T--C----GC-G-CG--ATAG-CT--TCG---A--CC--CGATG-G-----CC-G--GTGCCA-GCTCC-CAGCAAGCCC--CG-AT-C-CGT---GCCGA-A--CA--GCGC-A---CC-GTTCAGG--TTG------AAG---G-T-G-C-G-CTCA---AGC---AC-ACC---A-----GCT---A---CC--TGA-A--C-C-GCA-----C--GT---TCACG--T-------TCGAG-A-ATTTCGTC-GA-AG-GT-A--A-AT--CCAAC-CAG-C-T----G--G--CT-----CG-TG-----CAGCCGCCTGGCA-G-G---T--C-G--CC---G-A---CA-ACC-C--C----A-A--G---CACGGTTAC----AA-C-C-CT--C--T------CTT--CCT--TTA----TGG--T---GGCGTC--G-G-CTT---GG-G-T-AAG-ACTCAC---T-T-GA-TGCAC-G-CT-----G-T-G--G-----G--T---A-AC---C--ACCTATTA-AAGA--A--G---A-----A------CC-C--G---AA-TGCCA--A-GGTCGTG----TA-CCTGCA-C-TC-G-G--A-GCGCTTCGTG-G--CT----GAC--ATGGTCAA-GGC-CCTGCAGCTC-AATGCCATC-AATGAA-TT-CAA-G-CGTTTC-T-ACCGCTC-GGT-T----G-A-TG-----C-GTTGCTG-A---T-CG---A-T------GA--CATTC----AA-TTC-------TTTGC--C-------C-G---------TA-----A-AGAGCG-T-T--CCC-----A----G--G-A-AG-A--GT--T------TT--T---CCA-TACC-T-TCAACGCC----C--T--GCT--CGA----AG-G--TG-GCCAGCAGGTC----ATCTTGACCAG---TG-ACCGT-T-AT--CC-G-A---A--AGA--G-A-T-C-G-AA---G-G---TCTG--GA-AG-A-A-CGC--CTG-AAATCGC-GT-T--T--C---GG-CTGGG--G----C-CT---GACT------GT--TG-C---AG--T---------A---GA-G-C-CG-CCG-GAG--CT----C---G----AAACCC--G----C-G---T--C--G-----CGA-TC-C-TGATG------------AA-AAAGGC-CG--ACCA-G--GCGAAAGTCGA\n",
      "  Score=878\n",
      "\n",
      "Score of Sequence A : 878.0\n"
     ]
    }
   ],
   "source": [
    "alignment_seqA = pairwise2.align.localxx(seqA, seqB)\n",
    "\n",
    "top_alignment_seqA = alignment_seqA[0]\n",
    "\n",
    "print (f\"Sequence Alignment of Sequence A : {format_alignment(*top_alignment_seqA)}\")\n",
    "\n",
    "print (f\"Score of Sequence A : {top_alignment_seqA[2]}\")"
   ]
  },
  {
   "cell_type": "code",
   "execution_count": 22,
   "id": "ce33bc79",
   "metadata": {},
   "outputs": [
    {
     "name": "stdout",
     "output_type": "stream",
     "text": [
      "Sequence Alignment of Sequence A : ATGGTGTTGGATC--TGGA-CTTGTTTCGGACGGATAAAGGAGGAGACCCGGACCGCATCCGAGAGACGCAAAAGAACCGCTTCAAGGACCCGGGACTCGTGGATCGGCTGGTGAAGGCGGACGGCGAGTG-GCGAAAATGCAGATTTCA-GACCG-A-CAACTTG-AACAAGC-TGAAGAA-CCTATG-CAGCAAGACAATTGGAG-AGAAAATGAA--GAAAAAAGAGCCAGTGGGAAATGATGAGTCC-ATTCCGGAGAACTTGTTAAATCTCGATGACCTCACTTCAGACA-CTTTAGCTAACCTGAAAGT-GTCACA---GATCAAAAAACTC-CGACTCC---TCAT-CGACGAAGCCAT-CCTGAAGTGTGACGCCCAGCGGATAAAGCTGCAGGAATA-GCGGTTT-GA-GAACCTCCG-CGAGCGATTCGATGGCTAGGTCCT-GCATCCCTCGGTGCC-CATCAG-T-A--ACGATGAGG-ATGCGGACAACAAAGTCGAGAGGATCTGGGGTGACT-GCACCGTCAAGAAGAAGTACTCGCACGTG-GACCTGGTGGTGATGGTCGAT-G-GCT--TTGAAGGCGAAAAAGGGGTCGTGG-TGGCTGGCAGTCGAGGGTACTTCCTGAAGGGGCCCCTG-GTGTTCCTGGAACAGGCGC--TCAT-CCAGTACGC-CCTTCGCACCTTGGGAAGTCGGGGCTACA-TTCCCATTTACACCC-CGTTTTTCATGAG-GAAGGAGGTCATGCAGGAGG-TGGCACAGCTCAGCCAGTTTGA-TGAAGAGCTTTACAAGGT-GATTGGCAAAGGCAGT-GAAA-AGTCTGA-CGACAACTCCTACGATGAGAAATACCTGAT-TGCCAC-CTCCG-AGCA-GCCCATCGC-TGCTC-TCCA-CCGAGATG-AGTG-GCTACGGCCAG---AGGATTTGCCCATCAAGTATGCTGGCCTGTC-CACCT-GCTTT-CG-CCAGGAGGTGGGCTCCCACGGCCGG-GACACCCGCGGCATCTTCCGAGTCCATCA-GTTTGAGAAGATCGAGCAG-TTT-GTCT-AC-GCGTCACCACATGAC-AACA-AGTCGTGGGAGATGTT-TGAAGA-GATGATCTCCA-CCGC--GG-AGGAGTTCTACCAGACCCTGGGCATCCCATACCACATCGTGAATATTGTCTCA-GGTT-CTTTGAATCACGCTGCCAGTAAGAAGCTTGACCTGG--AGGCCTGGTTTCCGGGC-TCGGGAGCCTTCCGGGAGCTG--GT-CTC-CTGTTCTA-ACTGCACAGACTACCAGGCTCGCCGCCTCCGAATCCGATACGGGCAAACC-A--AGAAGATGATGGACAAGGTGGAGTTTGTCCACATGCTCAAC-GCCACCATG-T-GTGCCACTACCC-GCACCATCTGCGCCAT-C-CT--G-GAGAACTACCAGACGGA-G---AAGGGCA--T-C-G-TCG--TGCC--CGA--GAAGTTG-AAGGA-GTT-CATG-CCGC-CAGGTCTCCAAGAACTGATTCCCT-TTG-TGAAGCCTGCGCCCATTGACCAGGAGCCAT-CGAAGAAG--CAGAAGAA---GCAGCAGGAGGGCAGCAAAAACAA-AGGGGCAGAGAGCGATGTCCCCCTGGAGAGCCGGCTGCAGAGCATGGTGCTCGCCGATTCCTGAAC-ATT-CCTTCTC--C-CCAGTTCGGTCAGCTGG-GATCCCAGAGCCTGC-CCA-CAGG-CGGGGA-C--G-CCAGACATGC-CC-TCTCATCGCCTGCACCGACT-GACTGCATTGCTGAAACGGGAGCCCTCTGCC-AT-GCACACCGCAG-TGT---TC-CTGTCTGCTCGCATGGGCCTGGGACGCAACCACTGAGGACTGAGGAAGTCATGCCATGAGCCTCCCCAGCAGAGGTGAGGACTCGCCCGC-AGTCCTCCGCCTGGGCCTCAAACCCTGGCTCACAGCTCTCCCTGGAACCAC-ACTCACTTG-TGCTTTTCCTCCTAAATAAAG-CT-GTT-CCATGTAGC-AA-GTC-A-\n",
      "     | | | ||  |||| |   ||| || |            ||   |  |  |  |               |   ||  |   |||     |   | |   |    |  |       | | |||| || ||     |||      |  | ||  | ||| ||  ||| | | ||  | | ||   | |  |   ||   |  |  ||     |    |     | ||||     |  |  | | |  | |   | |||   |||        || ||   |   ||   ||  |    ||   ||   || | ||       | |        || |||||     |||  ||| ||||   | ||       ||| | || || | |   ||| |  ||||  ||    | || |||    |  || || |    |   |  || ||| |||  || | ||| | | ||   | |  |  || ||| | ||  | |||   ||    | |  |     |  |  ||||| ||        |   | |  | || | ||       ||      |  | ||   ||   |||           |   | | ||| || |||    |      |  ||   | |||   | |   | ||  ||  | |  |  | ||||||  | || | ||| |         |  |||| |  || |||   | |    ||    || |  | ||| ||    |   |  |   | |  |||| | |  |    || ||||||     ||      |  |  |    || |  |  | || ||   ||   |  ||  ||||| |     || |   |||||  ||||  |||| ||||  ||  | | | |    |||| |   |  | || |   || |   |||  |||      |||   | | | | | | ||    ||    |  ||   |     |||   |   ||   || |  | | |||     |  ||   ||| |  |       ||||| |  ||| |||  |  | || |  | ||  | |||  || | |    |  |   |      | ||     || ||||  || | | |   |  | |  ||   | |   || ||| |  |    | |  |   || |||| |    || | | ||  |  |      |||  |||    |    |||  |   ||| ||  | | |||   || | |   |  ||| |   | |  | ||||| | ||     | | |  |     |  |   | ||   |  ||| |  | ||||  |  |   |     |      || |  |   ||  ||||  | | | |||    || || ||| | || | |  |  | ||  | | |  ||    |||  | |   || |||   | | | ||   ||||  | |  ||| ||  || |  ||| | |  |||| | ||| |    | | ||     |  ||| || |   | ||   | |      ||  ||| |    ||   |          ||  |       | |          |     | |||||| | |  |||     |    |  | | || |  ||  |      ||  |   | | | || | ||  | ||    |  |  |||   ||    || |  ||  ||| |||| |    | |  | ||||   ||  || | | ||  || | |   |   ||  | | | | | ||   | |   ||||   |  | | | |||   ||    || | || |  |  |   || |||||  |    | ||   ||||      ||  || |   ||  |         |   || | | || |||  ||  ||    |   |    ||||||  |    | |   |  |  |     | | || | || ||            || |||| |  |   ||| |  || || ||| | \n",
      "-----G-T-G-TCAGTGGAAC---TTT-GG-C------------AG---C--A--G--T---------------G---CG--T---GGA-----G---C-T---T----T--T-------G-C-GCGA-TGAGC-----TGC------C-TG-CC-CAGCAA-TT-CAAC-A-CCTG--G-ATCC---GTC--C---AC---T--A-CAG-----G--TCG-----A-AGCC-----G--A--A-G-G--CGA---C-GAG---TTG--------CG-TG---T---TT---AC-GC----GC---CC---AA-TCGT----TTTG-T--------TCTCGACT--GGGTCA-ACGA-GAAG---TACC-------TGA-G-CC-GC-G-T---GCT-C--GAAT-TGC----TCGATGAA----C-ACG-GC-A----A---C--GG-CCTCGCA--CC-C-GTG-CTC-TC--CTTATTA--AT-AGGCA-GC--A-AAC---GT----A-G--C-----T--C-CGCACC-TC--------G---T-G--C-TGCG-CC-------GA------A-CGCGC-CATT---GGC-----------C---GCT-GCT-GC-GTC----G------C--AA---G-CCC--AG-G---C-GG--CA--C-CGGT--TGCCAGTA--CACC-T-GCA-C---------C--GGCT-C-CTT-CCA---A-A---TCG----TC-T--GCGAA-GA----A---A--A--AT-G--CAGC-C-G--A----GAATGAAGA-----AC-----CG--T--C----GC-G-CG--ATAG-CT--TCG---A--CC--CGATG-G-----CC-G--GTGCCA-GCTCC-CAGCAAGCCC--CG-AT-C-CGT---GCCGA-A--CA--GCGC-A---CC-GTTCAGG--TTG------AAG---G-T-G-C-G-CTCA---AGC---AC-ACC---A-----GCT---A---CC--TGA-A--C-C-GCA-----C--GT---TCACG--T-------TCGAG-A-ATTTCGTC-GA-AG-GT-A--A-AT--CCAAC-CAG-C-T----G--G--CT-----CG-TG-----CAGCCGCCTGGCA-G-G---T--C-G--CC---G-A---CA-ACC-C--C----A-A--G---CACGGTTAC----AA-C-C-CT--C--T------CTT--CCT--TTA----TGG--T---GGCGTC--G-G-CTT---GG-G-T-AAG-ACTCAC---T-T-GA-TGCAC-G-CT-----G-T-G--G-----G--T---A-AC---C--ACCTATTA-AAGA--A--G---A-----A------CC-C--G---AA-TGCCA--A-GGTCGTG----TA-CCTGCA-C-TC-G-G--A-GCGCTTCGTG-G--CT----GAC--ATGGTCAA-GGC-CCTGCAGCTC-AATGCCATC-AATGAA-TT-CAA-G-CGTTTC-T-ACCGCTC-GGT-T----G-A-TG-----C-GTTGCTG-A---T-CG---A-T------GA--CATTC----AA-TTC-------TTTGC--C-------C-G---------TA-----A-AGAGCG-T-T--CCC-----A----G--G-A-AG-A--GT--T------TT--T---CCA-TACC-T-TCAACGCC----C--T--GCT--CGA----AG-G--TG-GCCAGCAGGTC----ATCTTGACCAG---TG-ACCGT-T-AT--CC-G-A---A--AGA--G-A-T-C-G-AA---G-G---TCTG--GA-AG-A-A-CGC--CTG-AAATCGC-GT-T--T--C---GG-CTGGG--G----C-CT---GACT------GT--TG-C---AG--T---------A---GA-G-C-CG-CCG-GAG--CT----C---G----AAACCC--G----C-G---T--C--G-----CGA-TC-C-TGATG------------AA-AAAGGC-CG--ACCA-G--GCGAAAGTCGAC\n",
      "  Score=878\n",
      "\n",
      "Score of Sequence A : 878.0\n"
     ]
    }
   ],
   "source": [
    "alignment_seqA = pairwise2.align.globalxx(seqA, seqB)\n",
    "\n",
    "top_alignment_seqA = alignment_seqA[0]\n",
    "\n",
    "print (f\"Sequence Alignment of Sequence A : {format_alignment(*top_alignment_seqA)}\")\n",
    "\n",
    "print (f\"Score of Sequence A : {top_alignment_seqA[2]}\")"
   ]
  },
  {
   "cell_type": "markdown",
   "id": "90ea60aa",
   "metadata": {},
   "source": [
    "# Plotting"
   ]
  },
  {
   "cell_type": "markdown",
   "id": "63f10142",
   "metadata": {},
   "source": [
    "## Molecular Weight"
   ]
  },
  {
   "cell_type": "code",
   "execution_count": 23,
   "id": "7c54a5b8",
   "metadata": {},
   "outputs": [],
   "source": [
    "import matplotlib.pyplot as plt"
   ]
  },
  {
   "cell_type": "code",
   "execution_count": 26,
   "id": "226e0ce8",
   "metadata": {},
   "outputs": [
    {
     "data": {
      "image/png": "[encoded data removed]",
      "text/plain": [
       "<Figure size 640x480 with 1 Axes>"
      ]
     },
     "metadata": {},
     "output_type": "display_data"
    }
   ],
   "source": [
    "plt.title(\"Molecular Weight of Sequence A\")\n",
    "plt.bar([\"Sequence A\", \"Sequence B\"], [MolecularWeightSeqA, MolecularWeightSeqB], color=[\"red\", \"blue\"])\n",
    "plt.show()"
   ]
  },
  {
   "cell_type": "markdown",
   "id": "b7f77fd3",
   "metadata": {},
   "source": [
    "## GC and AT Content Percentage"
   ]
  },
  {
   "cell_type": "code",
   "execution_count": 35,
   "id": "710ecaeb",
   "metadata": {},
   "outputs": [
    {
     "data": {
      "image/png": "[encoded data removed]",
      "text/plain": [
       "<Figure size 640x480 with 2 Axes>"
      ]
     },
     "metadata": {},
     "output_type": "display_data"
    }
   ],
   "source": [
    "fig, axs = plt.subplots(1, 2)\n",
    "\n",
    "axs[0].bar ([\"GC Seq A\", \"GC Seq B\"], [GCSeqA, GCSeqB])\n",
    "axs[0].set_title(\"GC Content\")\n",
    "\n",
    "axs[1].bar ([\"AT Seq A\", \"AT Seq B\"], [ATSeqA, ATSeqB])\n",
    "axs[1].set_title(\"AT Content\")\n",
    "\n",
    "plt.show()"
   ]
  },
  {
   "cell_type": "markdown",
   "id": "dc7bc009",
   "metadata": {},
   "source": [
    "## Nucleotides Base Frequency"
   ]
  },
  {
   "cell_type": "code",
   "execution_count": 36,
   "id": "eed572ee",
   "metadata": {},
   "outputs": [
    {
     "data": {
      "image/png": "[encoded data removed]",
      "text/plain": [
       "<Figure size 640x480 with 1 Axes>"
      ]
     },
     "metadata": {},
     "output_type": "display_data"
    },
    {
     "data": {
      "image/png": "[encoded data removed]",
      "text/plain": [
       "<Figure size 640x480 with 1 Axes>"
      ]
     },
     "metadata": {},
     "output_type": "display_data"
    }
   ],
   "source": [
    "plt.title(\"Nucleotides Base Frequency of Sequence A\")\n",
    "plt.bar(seqA_freq.keys(), seqA_freq.values())\n",
    "plt.show()\n",
    "\n",
    "plt.title(\"Nucleotides Base Frequency of Sequence B\")\n",
    "plt.bar(seqB_freq.keys(), seqB_freq.values())\n",
    "plt.show()"
   ]
  }
 ],
 "metadata": {
  "kernelspec": {
   "display_name": "Python 3",
   "language": "python",
   "name": "python3"
  },
  "language_info": {
   "codemirror_mode": {
    "name": "ipython",
    "version": 3
   },
   "file_extension": ".py",
   "mimetype": "text/x-python",
   "name": "python",
   "nbconvert_exporter": "python",
   "pygments_lexer": "ipython3",
   "version": "3.12.1"
  }
 },
 "nbformat": 4,
 "nbformat_minor": 5
}
